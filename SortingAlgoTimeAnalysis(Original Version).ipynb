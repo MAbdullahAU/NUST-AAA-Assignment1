{
  "nbformat": 4,
  "nbformat_minor": 0,
  "metadata": {
    "colab": {
      "provenance": [],
      "collapsed_sections": [
        "Qs1YTOE1DaYt",
        "oxp0f8-iNori",
        "7BibalQoQxR5",
        "7AxLosWnQyHm",
        "leJFbWitQyPY",
        "gADeWC2aQyZS",
        "wiX8yPaQQygo",
        "WbD0nMPgQypM",
        "Ss0vv82oQyxy"
      ]
    },
    "kernelspec": {
      "name": "python3",
      "display_name": "Python 3"
    },
    "language_info": {
      "name": "python"
    }
  },
  "cells": [
    {
      "cell_type": "markdown",
      "source": [
        "# Initilizing For the Program"
      ],
      "metadata": {
        "id": "s-csGkvGFOvj"
      }
    },
    {
      "cell_type": "code",
      "source": [
        "from time import time\n",
        "import random\n",
        "import matplotlib.pyplot as plt\n",
        "from tabulate import tabulate\n",
        "from prettytable import PrettyTable"
      ],
      "metadata": {
        "id": "GArFQaxRLvdY"
      },
      "execution_count": null,
      "outputs": []
    },
    {
      "cell_type": "code",
      "source": [
        "Algos = [\"Bubble Sort\", \"Insertion Sort\", \"Selection Sort\", \"Quick Sort\", \"Merge Sort\", \"Heap Sort\", \"Counting Sort\", \"Bucket Sort\", \"Radix Sort\"]\n",
        "\n",
        "TimeCaptureForN10    = []\n",
        "TimeCaptureForN100   = []\n",
        "TimeCaptureForN1000  = []\n",
        "TimeCaptureForN10000 = []\n",
        "\n",
        "TestCaseN10    = []\n",
        "TestCaseN100   = []\n",
        "TestCaseN1000  = []\n",
        "TestCaseN10000 = []\n"
      ],
      "metadata": {
        "id": "8vtkCLPIFO3l"
      },
      "execution_count": null,
      "outputs": []
    },
    {
      "cell_type": "markdown",
      "source": [
        "# Random Generator\n",
        "\n",
        "to make test case for size array  n=10, n = 100, n=1000, and n=10000"
      ],
      "metadata": {
        "id": "DjVy1AH0BeMW"
      }
    },
    {
      "cell_type": "code",
      "source": [
        "TestCaseN10    = []\n",
        "TestCaseN100   = []\n",
        "TestCaseN1000  = []\n",
        "TestCaseN10000 = []\n",
        "\n",
        "random.seed(5)\n",
        "\n",
        "for i in range(10) :\n",
        "  temp = random.randint(-1000, 1000)\n",
        "  TestCaseN10.append(temp)\n",
        "\n",
        "for i in range(100) :\n",
        "  temp = random.randint(-1000, 1000)\n",
        "  TestCaseN100.append(temp)\n",
        "\n",
        "for i in range(1000) :\n",
        "  temp = random.randint(-1000, 1000)\n",
        "  TestCaseN1000.append(temp)\n",
        "\n",
        "for i in range(10000) :\n",
        "  temp = random.randint(-1000, 1000)\n",
        "  TestCaseN10000.append(temp)\n",
        "  "
      ],
      "metadata": {
        "id": "OnD8z2dVAocG"
      },
      "execution_count": null,
      "outputs": []
    },
    {
      "cell_type": "code",
      "source": [
        "TCN10    = TestCaseN10.copy()\n",
        "TCN100   = TestCaseN100.copy()\n",
        "TCN1000  = TestCaseN1000.copy()\n",
        "TCN10000 = TestCaseN10000.copy()\n",
        "\n",
        "print(\"Sample TestCase: \", TCN10)"
      ],
      "metadata": {
        "colab": {
          "base_uri": "https://localhost:8080/"
        },
        "id": "T83rDHzNLsj9",
        "outputId": "8aa35b33-15ba-4dc8-c2a0-aa16cc237099"
      },
      "execution_count": null,
      "outputs": [
        {
          "output_type": "stream",
          "name": "stdout",
          "text": [
            "[275, -477, 519, -266, 628, 414, 930, 723, 515, 335]\n"
          ]
        }
      ]
    },
    {
      "cell_type": "markdown",
      "source": [
        "# Analysising the Time Complexity for Bubble Sort\n",
        "\n",
        "Ref: https://www.geeksforgeeks.org/bubble-sort/"
      ],
      "metadata": {
        "id": "Qs1YTOE1DaYt"
      }
    },
    {
      "cell_type": "code",
      "source": [
        "def bubbleSort(array):\n",
        "    \n",
        "  for i in range(len(array)):\n",
        "    for j in range(0, len(array) - i - 1):  # here is added just to avoid to itrate over the last element \n",
        "      if array[j] > array[j + 1]:\n",
        "        temp = array[j]\n",
        "        array[j] = array[j+1]\n",
        "        array[j+1] = temp\n"
      ],
      "metadata": {
        "id": "GHh--a4CDahW"
      },
      "execution_count": null,
      "outputs": []
    },
    {
      "cell_type": "code",
      "source": [
        "BTCN10    = TCN10.copy()\n",
        "BTCN100   = TCN100.copy()\n",
        "BTCN1000  = TCN1000.copy()\n",
        "BTCN10000 = TCN10000.copy()\n",
        "\n",
        "t0 = time()\n",
        "bubbleSort(BTCN10)\n",
        "t1 = time()\n",
        "B10t2 = t1-t0\n",
        "print('Time Take by bubble sort to sort TestData of size N = 10 is %f' %(t1-t0))\n",
        "TimeCaptureForN10.append(B10t2) \n",
        "\n",
        "t0 = time()\n",
        "bubbleSort(BTCN100)\n",
        "t1 = time()\n",
        "B100t2 = t1-t0\n",
        "print('Time Take by bubble sort to sort TestData of size N = 100 is %f' %(t1-t0))\n",
        "TimeCaptureForN100.append(B100t2) \n",
        "\n",
        "t0 = time()\n",
        "bubbleSort(BTCN1000)\n",
        "t1 = time()\n",
        "B1000t2 = t1-t0\n",
        "print('Time Take by bubble sort to sort TestData of size N = 1000 is %f' %(t1-t0))\n",
        "TimeCaptureForN1000.append(B1000t2) \n",
        "\n",
        "t0 = time()\n",
        "bubbleSort(BTCN10000)\n",
        "t1 = time()\n",
        "B10000t2 = t1-t0\n",
        "print('Time Take by bubble sort to sort TestData of size N = 10000 is %f' %(t1-t0))\n",
        "TimeCaptureForN10000.append(B10000t2) "
      ],
      "metadata": {
        "id": "QEW7yzCOJf-a",
        "outputId": "107deea6-0214-4701-dd62-793bee049d67",
        "colab": {
          "base_uri": "https://localhost:8080/"
        }
      },
      "execution_count": null,
      "outputs": [
        {
          "output_type": "stream",
          "name": "stdout",
          "text": [
            "Time Take by bubble sort to sort TestData of size N = 10 is 0.000105\n",
            "Time Take by bubble sort to sort TestData of size N = 100 is 0.002126\n",
            "Time Take by bubble sort to sort TestData of size N = 1000 is 0.096313\n",
            "Time Take by bubble sort to sort TestData of size N = 10000 is 10.218728\n"
          ]
        }
      ]
    },
    {
      "cell_type": "code",
      "source": [
        "TestSize = ['N10','N100','N1000','N10000']\n",
        "Time = [B10t2,B100t2,B1000t2,B10000t2]\n",
        "\n",
        "'''data = [TestSize, Time]\n",
        "#col_names = [\"Test Data Size (N)\", \"Time Take\"]\n",
        "print(tabulate(data, headers=col_names, tablefmt=\"fancy_grid\"))'''\n",
        "\n",
        "myTable = PrettyTable([\"Test Data Size (N)\", \"Time Take\"])\n",
        "for i in range(4):\n",
        "  myTable.add_row([TestSize[i], Time[i]])\n",
        "\n",
        "print(myTable)\n",
        "\n",
        "#plt.bar( TestSize , Time)\n",
        "plt.plot( TestSize , Time)\n",
        "plt.title('Time Comparision of Bubble Sort for diffrent sized test data')\n",
        "plt.xlabel('Test Data Size')\n",
        "plt.ylabel('Time Take')\n",
        "'''plt.ylim(0,2)\n",
        "plt.xlim(0,2)'''\n",
        "plt.show()"
      ],
      "metadata": {
        "id": "c5yhE06tRYO_",
        "colab": {
          "base_uri": "https://localhost:8080/",
          "height": 434
        },
        "outputId": "9a9a700c-0e57-4545-a4a6-7651e07d74f8"
      },
      "execution_count": null,
      "outputs": [
        {
          "output_type": "stream",
          "name": "stdout",
          "text": [
            "+--------------------+-----------------------+\n",
            "| Test Data Size (N) |       Time Take       |\n",
            "+--------------------+-----------------------+\n",
            "|        N10         | 0.0001049041748046875 |\n",
            "|        N100        |  0.002125978469848633 |\n",
            "|       N1000        |   0.0963127613067627  |\n",
            "|       N10000       |   10.218728303909302  |\n",
            "+--------------------+-----------------------+\n"
          ]
        },
        {
          "output_type": "display_data",
          "data": {
            "text/plain": [
              "<Figure size 432x288 with 1 Axes>"
            ],
            "image/png": "[encoded data removed]"
          },
          "metadata": {
            "needs_background": "light"
          }
        }
      ]
    },
    {
      "cell_type": "markdown",
      "source": [
        "# Analysising the Time Complexity for Insertion Sort\n",
        "\n",
        "Ref: https://www.geeksforgeeks.org/insertion-sort/"
      ],
      "metadata": {
        "id": "oxp0f8-iNori"
      }
    },
    {
      "cell_type": "code",
      "source": [
        "def insertionSort(array):\n",
        "    # Loop from the second element of the array until\n",
        "    # the last element\n",
        "    for i in range(1, len(array)):\n",
        "        # This is the element we want to position in its\n",
        "        # correct place\n",
        "        key_item = array[i]\n",
        "        #print(\"key_item\",key_item)\n",
        "        # Initialize the variable that will be used to\n",
        "        # find the correct position of the element referenced\n",
        "        # by `key_item`\n",
        "        j = i - 1\n",
        "\n",
        "        # Run through the list of items (the left\n",
        "        # portion of the array) and find the correct position\n",
        "        # of the element referenced by `key_item`. Do this only\n",
        "        # if `key_item` is smaller than its adjacent values.\n",
        "        while j >= 0 and array[j] > key_item:\n",
        "            # Shift the value one position to the left\n",
        "            # and reposition j to point to the next element\n",
        "            # (from right to left)\n",
        "            #print(\"array[j]\",array[j])\n",
        "            #print(array)\n",
        "            array[j + 1] = array[j]\n",
        "            j -= 1\n",
        "\n",
        "\n",
        "        # When you finish shifting the elements, you can position\n",
        "        # `key_item` in its correct location\n",
        "        array[j + 1] = key_item\n",
        "\n",
        "    return array"
      ],
      "metadata": {
        "id": "U0pUbynLNo38"
      },
      "execution_count": null,
      "outputs": []
    },
    {
      "cell_type": "code",
      "source": [
        "ITCN10    = TCN10.copy()\n",
        "ITCN100   = TCN100.copy()\n",
        "ITCN1000  = TCN1000.copy()\n",
        "ITCN10000 = TCN10000.copy()\n",
        "\n",
        "t0 = time()\n",
        "insertionSort(ITCN10)\n",
        "t1 = time()\n",
        "I10t2 = t1-t0\n",
        "print('Time Take by insertion sort to sort TestData of size N = 10 is %f' %(t1-t0))\n",
        "TimeCaptureForN10.append(I10t2) \n",
        "\n",
        "t0 = time()\n",
        "insertionSort(ITCN100)\n",
        "t1 = time()\n",
        "I100t2 = t1-t0\n",
        "print('Time Take by insertion sort to sort TestData of size N = 100 is %f' %(t1-t0))\n",
        "TimeCaptureForN100.append(I100t2) \n",
        "\n",
        "t0 = time()\n",
        "insertionSort(ITCN1000)\n",
        "t1 = time()\n",
        "I1000t2 = t1-t0\n",
        "print('Time Take by insertion sort to sort TestData of size N = 1000 is %f' %(t1-t0))\n",
        "TimeCaptureForN1000.append(I1000t2) \n",
        "\n",
        "t0 = time()\n",
        "insertionSort(ITCN10000)\n",
        "t1 = time()\n",
        "I10000t2 = t1-t0\n",
        "print('Time Take by insertion sort to sort TestData of size N = 10000 is %f' %(t1-t0))\n",
        "TimeCaptureForN10000.append(I10000t2) "
      ],
      "metadata": {
        "id": "WAfBSBxwNpAG",
        "outputId": "643d3d7b-8b56-4729-8ffb-bd5d80545b41",
        "colab": {
          "base_uri": "https://localhost:8080/"
        }
      },
      "execution_count": null,
      "outputs": [
        {
          "output_type": "stream",
          "name": "stdout",
          "text": [
            "Time Take by insertion sort to sort TestData of size N = 10 is 0.000055\n",
            "Time Take by insertion sort to sort TestData of size N = 100 is 0.000493\n",
            "Time Take by insertion sort to sort TestData of size N = 1000 is 0.052199\n",
            "Time Take by insertion sort to sort TestData of size N = 10000 is 4.854535\n"
          ]
        }
      ]
    },
    {
      "cell_type": "code",
      "source": [
        "TestSize = ['N10','N100','N1000','N10000']\n",
        "Time = [I10t2,I100t2,I1000t2,I10000t2]\n",
        "\n",
        "'''data = [TestSize, Time]\n",
        "#col_names = [\"Test Data Size (N)\", \"Time Take\"]\n",
        "print(tabulate(data, headers=col_names, tablefmt=\"fancy_grid\"))'''\n",
        "\n",
        "myTable = PrettyTable([\"Test Data Size (N)\", \"Time Take\"])\n",
        "for i in range(4):\n",
        "  myTable.add_row([TestSize[i], Time[i]])\n",
        "print(myTable)\n",
        "\n",
        "#plt.bar( TestSize , Time)\n",
        "plt.plot( TestSize , Time)\n",
        "plt.title('Time Comparision of Bubble Sort for diffrent sized test data')\n",
        "plt.xlabel('Test Data Size')\n",
        "plt.ylabel('Time Take')\n",
        "'''plt.ylim(0,2)\n",
        "plt.xlim(0,2)'''\n",
        "plt.show()"
      ],
      "metadata": {
        "colab": {
          "base_uri": "https://localhost:8080/",
          "height": 434
        },
        "id": "aG_OZaMrxyEJ",
        "outputId": "1e233d47-8ca7-474d-f27b-b4b3080f2c5d"
      },
      "execution_count": null,
      "outputs": [
        {
          "output_type": "stream",
          "name": "stdout",
          "text": [
            "+--------------------+-----------------------+\n",
            "| Test Data Size (N) |       Time Take       |\n",
            "+--------------------+-----------------------+\n",
            "|        N10         |  5.53131103515625e-05 |\n",
            "|        N100        | 0.0004932880401611328 |\n",
            "|       N1000        |  0.05219912528991699  |\n",
            "|       N10000       |   4.854534864425659   |\n",
            "+--------------------+-----------------------+\n"
          ]
        },
        {
          "output_type": "display_data",
          "data": {
            "text/plain": [
              "<Figure size 432x288 with 1 Axes>"
            ],
            "image/png": "[encoded data removed]"
          },
          "metadata": {
            "needs_background": "light"
          }
        }
      ]
    },
    {
      "cell_type": "markdown",
      "source": [
        "# Analysising the Time Complexity for Selection Sort\n",
        "\n",
        "Ref: https://www.geeksforgeeks.org/selection-sort/"
      ],
      "metadata": {
        "id": "7BibalQoQxR5"
      }
    },
    {
      "cell_type": "code",
      "source": [
        "def selectionSort(array):\n",
        "  # Traverse through all array elements\n",
        "  for i in range(len(array)):\n",
        "      \n",
        "      # Find the minimum element in remaining\n",
        "      # unsorted array\n",
        "      min_idx = i\n",
        "      for j in range(i+1, len(array)):\n",
        "          if array[min_idx] > array[j]:\n",
        "              min_idx = j\n",
        "              \n",
        "      # Swap the found minimum element with\n",
        "      # the first element       \n",
        "      array[i], array[min_idx] = array[min_idx], array[i]\n",
        "\n",
        "  return(array)\n"
      ],
      "metadata": {
        "id": "rgroWOjDopXi"
      },
      "execution_count": null,
      "outputs": []
    },
    {
      "cell_type": "code",
      "source": [
        "STCN10    = TCN10.copy()\n",
        "STCN100   = TCN100.copy()\n",
        "STCN1000  = TCN1000.copy()\n",
        "STCN10000 = TCN10000.copy()\n",
        "\n",
        "t0 = time()\n",
        "selectionSort(STCN10)\n",
        "t1 = time()\n",
        "S10t2 = t1-t0\n",
        "print('Time Take by selection sort to sort TestData of size N = 10 is %f' %(t1-t0))\n",
        "TimeCaptureForN10.append(S10t2) \n",
        "\n",
        "t0 = time()\n",
        "selectionSort(STCN100)\n",
        "t1 = time()\n",
        "S100t2 = t1-t0\n",
        "print('Time Take by selection sort to sort TestData of size N = 100 is %f' %(t1-t0))\n",
        "TimeCaptureForN100.append(S100t2) \n",
        "\n",
        "t0 = time()\n",
        "selectionSort(STCN1000)\n",
        "t1 = time()\n",
        "S1000t2 = t1-t0\n",
        "print('Time Take by selection sort to sort TestData of size N = 1000 is %f' %(t1-t0))\n",
        "TimeCaptureForN1000.append(S1000t2) \n",
        "\n",
        "t0 = time()\n",
        "selectionSort(STCN10000)\n",
        "t1 = time()\n",
        "S10000t2 = t1-t0\n",
        "print('Time Take by selection sort to sort TestData of size N = 10000 is %f' %(t1-t0))\n",
        "TimeCaptureForN10000.append(S10000t2) "
      ],
      "metadata": {
        "colab": {
          "base_uri": "https://localhost:8080/"
        },
        "id": "-ojZFj5Mopfl",
        "outputId": "352e090b-998f-4c1d-ba38-6c3ebda6fb79"
      },
      "execution_count": null,
      "outputs": [
        {
          "output_type": "stream",
          "name": "stdout",
          "text": [
            "Time Take by selection sort to sort TestData of size N = 10 is 0.000093\n",
            "Time Take by selection sort to sort TestData of size N = 100 is 0.000816\n",
            "Time Take by selection sort to sort TestData of size N = 1000 is 0.043005\n",
            "Time Take by selection sort to sort TestData of size N = 10000 is 4.112559\n"
          ]
        }
      ]
    },
    {
      "cell_type": "code",
      "source": [
        "TestSize = ['N10','N100','N1000','N10000']\n",
        "Time = [S10t2,S100t2,S1000t2,S10000t2]\n",
        "\n",
        "'''data = [TestSize, Time]\n",
        "#col_names = [\"Test Data Size (N)\", \"Time Take\"]\n",
        "print(tabulate(data, headers=col_names, tablefmt=\"fancy_grid\"))'''\n",
        "\n",
        "myTable = PrettyTable([\"Test Data Size (N)\", \"Time Take\"])\n",
        "for i in range(4):\n",
        "  myTable.add_row([TestSize[i], Time[i]])\n",
        "print(myTable)\n",
        "\n",
        "#plt.bar( TestSize , Time)\n",
        "plt.plot( TestSize , Time)\n",
        "plt.title('Time Comparision of Bubble Sort for diffrent sized test data')\n",
        "plt.xlabel('Test Data Size')\n",
        "plt.ylabel('Time Take')\n",
        "'''plt.ylim(0,2)\n",
        "plt.xlim(0,2)'''\n",
        "plt.show()"
      ],
      "metadata": {
        "colab": {
          "base_uri": "https://localhost:8080/",
          "height": 434
        },
        "id": "Le9SVuOkx1ze",
        "outputId": "0e871329-5c58-47e7-fb68-ec577da7425d"
      },
      "execution_count": null,
      "outputs": [
        {
          "output_type": "stream",
          "name": "stdout",
          "text": [
            "+--------------------+-----------------------+\n",
            "| Test Data Size (N) |       Time Take       |\n",
            "+--------------------+-----------------------+\n",
            "|        N10         | 9.322166442871094e-05 |\n",
            "|        N100        | 0.0008161067962646484 |\n",
            "|       N1000        |  0.04300498962402344  |\n",
            "|       N10000       |   4.112559080123901   |\n",
            "+--------------------+-----------------------+\n"
          ]
        },
        {
          "output_type": "display_data",
          "data": {
            "text/plain": [
              "<Figure size 432x288 with 1 Axes>"
            ],
            "image/png": "[encoded data removed]"
          },
          "metadata": {
            "needs_background": "light"
          }
        }
      ]
    },
    {
      "cell_type": "markdown",
      "source": [
        "# Analysising the Time Complexity for Quick Sort\n",
        "\n",
        "Ref: https://www.geeksforgeeks.org/quick-sort/"
      ],
      "metadata": {
        "id": "7AxLosWnQyHm"
      }
    },
    {
      "cell_type": "code",
      "source": [
        "# Python3 implementation of QuickSort\n",
        "\n",
        "\n",
        "# Function to find the partition position\n",
        "def partition(array, low, high):\n",
        "\n",
        "\t# Choose the rightmost element as pivot\n",
        "\tpivot = array[high]\n",
        "\n",
        "\t# Pointer for greater element\n",
        "\ti = low - 1\n",
        "\n",
        "\t# Traverse through all elements\n",
        "\t# compare each element with pivot\n",
        "\tfor j in range(low, high):\n",
        "\t\tif array[j] <= pivot:\n",
        "\t\t\t# If element smaller than pivot is found\n",
        "\t\t\t# swap it with the greater element pointed by i\n",
        "\t\t\ti = i + 1\n",
        "\n",
        "\t\t\t# Swapping element at i with element at j\n",
        "\t\t\t(array[i], array[j]) = (array[j], array[i])\n",
        "\n",
        "\t# Swap the pivot element with\n",
        "\t# e greater element specified by i\n",
        "\t(array[i + 1], array[high]) = (array[high], array[i + 1])\n",
        "\n",
        "\t# Return the position from where partition is done\n",
        "\treturn i + 1\n",
        "\n",
        "# Function to perform quicksort\n",
        "\n",
        "\n",
        "def quickSort(array, low, high):\n",
        "\tif low < high:\n",
        "\n",
        "\t\t# Find pivot element such that\n",
        "\t\t# element smaller than pivot are on the left\n",
        "\t\t# element greater than pivot are on the right\n",
        "\t\tpi = partition(array, low, high)\n",
        "\n",
        "\t\t# Recursive call on the left of pivot\n",
        "\t\tquickSort(array, low, pi - 1)\n",
        "\n",
        "\t\t# Recursive call on the right of pivot\n",
        "\t\tquickSort(array, pi + 1, high)\n",
        "\n"
      ],
      "metadata": {
        "id": "7AOoEs6lzzAB"
      },
      "execution_count": null,
      "outputs": []
    },
    {
      "cell_type": "code",
      "source": [
        "QTCN10    = TCN10.copy()\n",
        "QTCN100   = TCN100.copy()\n",
        "QTCN1000  = TCN1000.copy()\n",
        "QTCN10000 = TCN10000.copy()\n",
        "\n",
        "t0 = time()\n",
        "quickSort(QTCN10, 0, len(QTCN10) - 1)\n",
        "t1 = time()\n",
        "Q10t2 = t1-t0\n",
        "print('Time Take by quick sort to sort TestData of size N = 10 is %f' %(t1-t0))\n",
        "TimeCaptureForN10.append(Q10t2) \n",
        "\n",
        "t0 = time()\n",
        "quickSort(QTCN100, 0, len(QTCN100) - 1)\n",
        "t1 = time()\n",
        "Q100t2 = t1-t0\n",
        "print('Time Take by quick sort to sort TestData of size N = 100 is %f' %(t1-t0))\n",
        "TimeCaptureForN100.append(Q100t2) \n",
        "\n",
        "t0 = time()\n",
        "quickSort(QTCN1000, 0, len(QTCN1000) - 1)\n",
        "t1 = time()\n",
        "Q1000t2 = t1-t0\n",
        "print('Time Take by quick sort to sort TestData of size N = 1000 is %f' %(t1-t0))\n",
        "TimeCaptureForN1000.append(Q1000t2) \n",
        "\n",
        "t0 = time()\n",
        "quickSort(QTCN10000, 0, len(QTCN10000) - 1)\n",
        "t1 = time()\n",
        "Q10000t2 = t1-t0\n",
        "print('Time Take by quick sort to sort TestData of size N = 10000 is %f' %(t1-t0))\n",
        "TimeCaptureForN10000.append(Q10000t2)"
      ],
      "metadata": {
        "colab": {
          "base_uri": "https://localhost:8080/"
        },
        "id": "DAbmwAYjosGX",
        "outputId": "239ebfb8-b7ed-44aa-a369-ff6dd0761b61"
      },
      "execution_count": null,
      "outputs": [
        {
          "output_type": "stream",
          "name": "stdout",
          "text": [
            "Time Take by quick sort to sort TestData of size N = 10 is 0.000119\n",
            "Time Take by quick sort to sort TestData of size N = 100 is 0.000323\n",
            "Time Take by quick sort to sort TestData of size N = 1000 is 0.003957\n",
            "Time Take by quick sort to sort TestData of size N = 10000 is 0.033468\n"
          ]
        }
      ]
    },
    {
      "cell_type": "code",
      "source": [
        "TestSize = ['N10','N100','N1000','N10000']\n",
        "Time = [Q10t2,Q100t2,Q1000t2,Q10000t2]\n",
        "\n",
        "'''data = [TestSize, Time]\n",
        "#col_names = [\"Test Data Size (N)\", \"Time Take\"]\n",
        "print(tabulate(data, headers=col_names, tablefmt=\"fancy_grid\"))'''\n",
        "\n",
        "myTable = PrettyTable([\"Test Data Size (N)\", \"Time Take\"])\n",
        "for i in range(4):\n",
        "  myTable.add_row([TestSize[i], Time[i]])\n",
        "print(myTable)\n",
        "\n",
        "#plt.bar( TestSize , Time)\n",
        "plt.plot( TestSize , Time)\n",
        "plt.title('Time Comparision of Quick Sort for diffrent sized test data')\n",
        "plt.xlabel('Test Data Size')\n",
        "plt.ylabel('Time Take')\n",
        "'''plt.ylim(0,2)\n",
        "plt.xlim(0,2)'''\n",
        "plt.show()"
      ],
      "metadata": {
        "colab": {
          "base_uri": "https://localhost:8080/",
          "height": 434
        },
        "id": "HbIOuGZTzuY5",
        "outputId": "057eaf52-1394-48ed-863e-5d3af03ad6ce"
      },
      "execution_count": null,
      "outputs": [
        {
          "output_type": "stream",
          "name": "stdout",
          "text": [
            "+--------------------+------------------------+\n",
            "| Test Data Size (N) |       Time Take        |\n",
            "+--------------------+------------------------+\n",
            "|        N10         | 0.00011897087097167969 |\n",
            "|        N100        | 0.00032329559326171875 |\n",
            "|       N1000        |  0.003956794738769531  |\n",
            "|       N10000       |  0.033468008041381836  |\n",
            "+--------------------+------------------------+\n"
          ]
        },
        {
          "output_type": "display_data",
          "data": {
            "text/plain": [
              "<Figure size 432x288 with 1 Axes>"
            ],
            "image/png": "[encoded data removed]"
          },
          "metadata": {
            "needs_background": "light"
          }
        }
      ]
    },
    {
      "cell_type": "markdown",
      "source": [
        "# Analysising the Time Complexity for Merge Sort\n",
        "\n",
        "Ref: https://www.geeksforgeeks.org/merge-sort/"
      ],
      "metadata": {
        "id": "leJFbWitQyPY"
      }
    },
    {
      "cell_type": "code",
      "source": [
        "# Python program for implementation of MergeSort\n",
        "def mergeSort(arr):\n",
        "\tif len(arr) > 1:\n",
        "\n",
        "\t\t# Finding the mid of the array\n",
        "\t\tmid = len(arr)//2\n",
        "\n",
        "\t\t# Dividing the array elements\n",
        "\t\tL = arr[:mid]\n",
        "\n",
        "\t\t# into 2 halves\n",
        "\t\tR = arr[mid:]\n",
        "\n",
        "\t\t# Sorting the first half\n",
        "\t\tmergeSort(L)\n",
        "\n",
        "\t\t# Sorting the second half\n",
        "\t\tmergeSort(R)\n",
        "\n",
        "\t\ti = j = k = 0\n",
        "\n",
        "\t\t# Copy data to temp arrays L[] and R[]\n",
        "\t\twhile i < len(L) and j < len(R):\n",
        "\t\t\tif L[i] <= R[j]:\n",
        "\t\t\t\tarr[k] = L[i]\n",
        "\t\t\t\ti += 1\n",
        "\t\t\telse:\n",
        "\t\t\t\tarr[k] = R[j]\n",
        "\t\t\t\tj += 1\n",
        "\t\t\tk += 1\n",
        "\n",
        "\t\t# Checking if any element was left\n",
        "\t\twhile i < len(L):\n",
        "\t\t\tarr[k] = L[i]\n",
        "\t\t\ti += 1\n",
        "\t\t\tk += 1\n",
        "\n",
        "\t\twhile j < len(R):\n",
        "\t\t\tarr[k] = R[j]\n",
        "\t\t\tj += 1\n",
        "\t\t\tk += 1\n"
      ],
      "metadata": {
        "id": "tHacYIZaosr7"
      },
      "execution_count": null,
      "outputs": []
    },
    {
      "cell_type": "code",
      "source": [
        "MTCN10    = TCN10.copy()\n",
        "MTCN100   = TCN100.copy()\n",
        "MTCN1000  = TCN1000.copy()\n",
        "MTCN10000 = TCN10000.copy()\n",
        "\n",
        "t0 = time()\n",
        "mergeSort(MTCN10)\n",
        "t1 = time()\n",
        "M10t2 = t1-t0\n",
        "print('Time Take by merge sort to sort TestData of size N = 10 is %f' %(t1-t0))\n",
        "TimeCaptureForN10.append(M10t2) \n",
        "\n",
        "t0 = time()\n",
        "mergeSort(MTCN100)\n",
        "t1 = time()\n",
        "M100t2 = t1-t0\n",
        "print('Time Take by merge sort to sort TestData of size N = 100 is %f' %(t1-t0))\n",
        "TimeCaptureForN100.append(M100t2) \n",
        "\n",
        "t0 = time()\n",
        "mergeSort(MTCN1000)\n",
        "t1 = time()\n",
        "M1000t2 = t1-t0\n",
        "print('Time Take by merge sort to sort TestData of size N = 1000 is %f' %(t1-t0))\n",
        "TimeCaptureForN1000.append(M1000t2) \n",
        "\n",
        "t0 = time()\n",
        "mergeSort(MTCN10000)\n",
        "t1 = time()\n",
        "M10000t2 = t1-t0\n",
        "print('Time Take by merge sort to sort TestData of size N = 10000 is %f' %(t1-t0))\n",
        "TimeCaptureForN10000.append(M10000t2)"
      ],
      "metadata": {
        "colab": {
          "base_uri": "https://localhost:8080/"
        },
        "id": "zCHMD0ZTosvR",
        "outputId": "d741ba01-73d5-4090-ea81-dce6631beced"
      },
      "execution_count": null,
      "outputs": [
        {
          "output_type": "stream",
          "name": "stdout",
          "text": [
            "Time Take by merge sort to sort TestData of size N = 10 is 0.000137\n",
            "Time Take by merge sort to sort TestData of size N = 100 is 0.000612\n",
            "Time Take by merge sort to sort TestData of size N = 1000 is 0.006030\n",
            "Time Take by merge sort to sort TestData of size N = 10000 is 0.062078\n"
          ]
        }
      ]
    },
    {
      "cell_type": "code",
      "source": [
        "TestSize = ['N10','N100','N1000','N10000']\n",
        "Time = [M10t2,M100t2,M1000t2,M10000t2]\n",
        "\n",
        "'''data = [TestSize, Time]\n",
        "#col_names = [\"Test Data Size (N)\", \"Time Take\"]\n",
        "print(tabulate(data, headers=col_names, tablefmt=\"fancy_grid\"))'''\n",
        "\n",
        "myTable = PrettyTable([\"Test Data Size (N)\", \"Time Take\"])\n",
        "for i in range(4):\n",
        "  myTable.add_row([TestSize[i], Time[i]])\n",
        "print(myTable)\n",
        "\n",
        "#plt.bar( TestSize , Time)\n",
        "plt.plot( TestSize , Time)\n",
        "plt.title('Time Comparision of Merge Sort for diffrent sized test data')\n",
        "plt.xlabel('Test Data Size')\n",
        "plt.ylabel('Time Take')\n",
        "'''plt.ylim(0,2)\n",
        "plt.xlim(0,2)'''\n",
        "plt.show()"
      ],
      "metadata": {
        "colab": {
          "base_uri": "https://localhost:8080/",
          "height": 434
        },
        "id": "Dwfc69uF2m-P",
        "outputId": "8b56eab2-1e4e-42c5-9a01-55c7644a67d5"
      },
      "execution_count": null,
      "outputs": [
        {
          "output_type": "stream",
          "name": "stdout",
          "text": [
            "+--------------------+------------------------+\n",
            "| Test Data Size (N) |       Time Take        |\n",
            "+--------------------+------------------------+\n",
            "|        N10         | 0.00013685226440429688 |\n",
            "|        N100        | 0.0006122589111328125  |\n",
            "|       N1000        |  0.006029844284057617  |\n",
            "|       N10000       |  0.062077999114990234  |\n",
            "+--------------------+------------------------+\n"
          ]
        },
        {
          "output_type": "display_data",
          "data": {
            "text/plain": [
              "<Figure size 432x288 with 1 Axes>"
            ],
            "image/png": "[encoded data removed]"
          },
          "metadata": {
            "needs_background": "light"
          }
        }
      ]
    },
    {
      "cell_type": "markdown",
      "source": [
        "# Analysising the Time Complexity for Heap Sort\n",
        "\n",
        "Ref: https://www.geeksforgeeks.org/heap-sort/"
      ],
      "metadata": {
        "id": "gADeWC2aQyZS"
      }
    },
    {
      "cell_type": "code",
      "source": [
        "# Python program for implementation of heap Sort\n",
        "\n",
        "# To heapify subtree rooted at index i.\n",
        "# n is size of heap\n",
        "\n",
        "\n",
        "def heapify(arr, N, i):\n",
        "\tlargest = i # Initialize largest as root\n",
        "\tl = 2 * i + 1\t # left = 2*i + 1\n",
        "\tr = 2 * i + 2\t # right = 2*i + 2\n",
        "\n",
        "\t# See if left child of root exists and is\n",
        "\t# greater than root\n",
        "\tif l < N and arr[largest] < arr[l]:\n",
        "\t\tlargest = l\n",
        "\n",
        "\t# See if right child of root exists and is\n",
        "\t# greater than root\n",
        "\tif r < N and arr[largest] < arr[r]:\n",
        "\t\tlargest = r\n",
        "\n",
        "\t# Change root, if needed\n",
        "\tif largest != i:\n",
        "\t\tarr[i], arr[largest] = arr[largest], arr[i] # swap\n",
        "\n",
        "\t\t# Heapify the root.\n",
        "\t\theapify(arr, N, largest)\n",
        "\n",
        "# The main function to sort an array of given size\n",
        "\n",
        "\n",
        "def heapSort(arr):\n",
        "\tN = len(arr)\n",
        "\n",
        "\t# Build a maxheap.\n",
        "\tfor i in range(N//2 - 1, -1, -1):\n",
        "\t\theapify(arr, N, i)\n",
        "\n",
        "\t# One by one extract elements\n",
        "\tfor i in range(N-1, 0, -1):\n",
        "\t\tarr[i], arr[0] = arr[0], arr[i] # swap\n",
        "\t\theapify(arr, i, 0)\n"
      ],
      "metadata": {
        "id": "7L9CIzyQotZS"
      },
      "execution_count": null,
      "outputs": []
    },
    {
      "cell_type": "code",
      "source": [
        "HTCN10    = TCN10.copy()\n",
        "HTCN100   = TCN100.copy()\n",
        "HTCN1000  = TCN1000.copy()\n",
        "HTCN10000 = TCN10000.copy()\n",
        "\n",
        "t0 = time()\n",
        "heapSort(HTCN10)\n",
        "t1 = time()\n",
        "H10t2 = t1-t0\n",
        "print('Time Take by heap sort to sort TestData of size N = 10 is %f' %(t1-t0))\n",
        "TimeCaptureForN10.append(H10t2) \n",
        "\n",
        "t0 = time()\n",
        "heapSort(HTCN100)\n",
        "t1 = time()\n",
        "H100t2 = t1-t0\n",
        "print('Time Take by heap sort to sort TestData of size N = 100 is %f' %(t1-t0))\n",
        "TimeCaptureForN100.append(H100t2) \n",
        "\n",
        "t0 = time()\n",
        "heapSort(HTCN1000)\n",
        "t1 = time()\n",
        "H1000t2 = t1-t0\n",
        "print('Time Take by heap sort to sort TestData of size N = 1000 is %f' %(t1-t0))\n",
        "TimeCaptureForN1000.append(H1000t2) \n",
        "\n",
        "t0 = time()\n",
        "heapSort(HTCN10000)\n",
        "t1 = time()\n",
        "H10000t2 = t1-t0\n",
        "print('Time Take by heap sort to sort TestData of size N = 10000 is %f' %(t1-t0))\n",
        "TimeCaptureForN10000.append(H10000t2)"
      ],
      "metadata": {
        "colab": {
          "base_uri": "https://localhost:8080/"
        },
        "id": "SEvoQKpZotcV",
        "outputId": "98e87e83-76c1-4ec2-8fcf-6a709558eddd"
      },
      "execution_count": null,
      "outputs": [
        {
          "output_type": "stream",
          "name": "stdout",
          "text": [
            "Time Take by heap sort to sort TestData of size N = 10 is 0.000122\n",
            "Time Take by heap sort to sort TestData of size N = 100 is 0.001467\n",
            "Time Take by heap sort to sort TestData of size N = 1000 is 0.005254\n",
            "Time Take by heap sort to sort TestData of size N = 10000 is 0.072695\n"
          ]
        }
      ]
    },
    {
      "cell_type": "code",
      "source": [
        "TestSize = ['N10','N100','N1000','N10000']\n",
        "Time = [H10t2,H100t2,H1000t2,H10000t2]\n",
        "\n",
        "'''data = [TestSize, Time]\n",
        "#col_names = [\"Test Data Size (N)\", \"Time Take\"]\n",
        "print(tabulate(data, headers=col_names, tablefmt=\"fancy_grid\"))'''\n",
        "\n",
        "myTable = PrettyTable([\"Test Data Size (N)\", \"Time Take\"])\n",
        "for i in range(4):\n",
        "  myTable.add_row([TestSize[i], Time[i]])\n",
        "print(myTable)\n",
        "\n",
        "#plt.bar( TestSize , Time)\n",
        "plt.plot( TestSize , Time)\n",
        "plt.title('Time Comparision of Heap Sort for diffrent sized test data')\n",
        "plt.xlabel('Test Data Size')\n",
        "plt.ylabel('Time Take')\n",
        "'''plt.ylim(0,2)\n",
        "plt.xlim(0,2)'''\n",
        "plt.show()"
      ],
      "metadata": {
        "colab": {
          "base_uri": "https://localhost:8080/",
          "height": 434
        },
        "id": "zkb7vANg4CRJ",
        "outputId": "500aaaec-d360-4efb-c9ea-41fbbd766f5c"
      },
      "execution_count": null,
      "outputs": [
        {
          "output_type": "stream",
          "name": "stdout",
          "text": [
            "+--------------------+-----------------------+\n",
            "| Test Data Size (N) |       Time Take       |\n",
            "+--------------------+-----------------------+\n",
            "|        N10         |    0.0001220703125    |\n",
            "|        N100        | 0.0014674663543701172 |\n",
            "|       N1000        |  0.005254030227661133 |\n",
            "|       N10000       |  0.07269501686096191  |\n",
            "+--------------------+-----------------------+\n"
          ]
        },
        {
          "output_type": "display_data",
          "data": {
            "text/plain": [
              "<Figure size 432x288 with 1 Axes>"
            ],
            "image/png": "[encoded data removed]"
          },
          "metadata": {
            "needs_background": "light"
          }
        }
      ]
    },
    {
      "cell_type": "markdown",
      "source": [
        "# Analysising the Time Complexity for Counting Sort\n",
        "\n",
        "Ref: https://www.geeksforgeeks.org/counting-sort/"
      ],
      "metadata": {
        "id": "wiX8yPaQQygo"
      }
    },
    {
      "cell_type": "code",
      "source": [
        "# Python program for counting sort\n",
        "# which takes negative numbers as well\n",
        "\n",
        "# The function that sorts the given arr[]\n",
        "def countSort(arr):\n",
        "\tmax_element = int(max(arr))\n",
        "\tmin_element = int(min(arr))\n",
        "\trange_of_elements = max_element - min_element + 1\n",
        "\t# Create a count array to store count of individual\n",
        "\t# elements and initialize count array as 0\n",
        "\tcount_arr = [0 for _ in range(range_of_elements)]\n",
        "\toutput_arr = [0 for _ in range(len(arr))]\n",
        "\n",
        "\t# Store count of each character\n",
        "\tfor i in range(0, len(arr)):\n",
        "\t\tcount_arr[arr[i]-min_element] += 1\n",
        "\n",
        "\t# Change count_arr[i] so that count_arr[i] now contains actual\n",
        "\t# position of this element in output array\n",
        "\tfor i in range(1, len(count_arr)):\n",
        "\t\tcount_arr[i] += count_arr[i-1]\n",
        "\n",
        "\t# Build the output character array\n",
        "\tfor i in range(len(arr)-1, -1, -1):\n",
        "\t\toutput_arr[count_arr[arr[i] - min_element] - 1] = arr[i]\n",
        "\t\tcount_arr[arr[i] - min_element] -= 1\n",
        "\n",
        "\t# Copy the output array to arr, so that arr now\n",
        "\t# contains sorted characters\n",
        "\tfor i in range(0, len(arr)):\n",
        "\t\tarr[i] = output_arr[i]\n",
        "\n",
        "\treturn arr\n",
        "\n"
      ],
      "metadata": {
        "id": "h1S1F_UMouW5"
      },
      "execution_count": null,
      "outputs": []
    },
    {
      "cell_type": "code",
      "source": [
        "CTCN10    = TCN10.copy()\n",
        "CTCN100   = TCN100.copy()\n",
        "CTCN1000  = TCN1000.copy()\n",
        "CTCN10000 = TCN10000.copy()\n",
        "\n",
        "t0 = time()\n",
        "countSort(CTCN10)\n",
        "t1 = time()\n",
        "C10t2 = t1-t0\n",
        "print('Time Take by count sort to sort TestData of size N = 10 is %f' %(t1-t0))\n",
        "TimeCaptureForN10.append(C10t2) \n",
        "\n",
        "t0 = time()\n",
        "countSort(CTCN100)\n",
        "t1 = time()\n",
        "C100t2 = t1-t0\n",
        "print('Time Take by count sort to sort TestData of size N = 100 is %f' %(t1-t0))\n",
        "TimeCaptureForN100.append(C100t2) \n",
        "\n",
        "t0 = time()\n",
        "countSort(CTCN1000)\n",
        "t1 = time()\n",
        "C1000t2 = t1-t0\n",
        "print('Time Take by count sort to sort TestData of size N = 1000 is %f' %(t1-t0))\n",
        "TimeCaptureForN1000.append(C1000t2) \n",
        "\n",
        "t0 = time()\n",
        "countSort(CTCN10000)\n",
        "t1 = time()\n",
        "C10000t2 = t1-t0\n",
        "print('Time Take by count sort to sort TestData of size N = 10000 is %f' %(t1-t0))\n",
        "TimeCaptureForN10000.append(C10000t2)"
      ],
      "metadata": {
        "colab": {
          "base_uri": "https://localhost:8080/"
        },
        "id": "FzqKWsLgouZ9",
        "outputId": "ed100ee0-2b1d-4cbb-804f-a208eeab7340"
      },
      "execution_count": null,
      "outputs": [
        {
          "output_type": "stream",
          "name": "stdout",
          "text": [
            "Time Take by count sort to sort TestData of size N = 10 is 0.000602\n",
            "Time Take by count sort to sort TestData of size N = 100 is 0.000839\n",
            "Time Take by count sort to sort TestData of size N = 1000 is 0.001817\n",
            "Time Take by count sort to sort TestData of size N = 10000 is 0.010466\n"
          ]
        }
      ]
    },
    {
      "cell_type": "code",
      "source": [
        "TestSize = ['N10','N100','N1000','N10000']\n",
        "Time = [C10t2,C100t2,C1000t2,C10000t2]\n",
        "\n",
        "'''data = [TestSize, Time]\n",
        "#col_names = [\"Test Data Size (N)\", \"Time Take\"]\n",
        "print(tabulate(data, headers=col_names, tablefmt=\"fancy_grid\"))'''\n",
        "\n",
        "myTable = PrettyTable([\"Test Data Size (N)\", \"Time Take\"])\n",
        "for i in range(4):\n",
        "  myTable.add_row([TestSize[i], Time[i]])\n",
        "print(myTable)\n",
        "\n",
        "#plt.bar( TestSize , Time)\n",
        "plt.plot( TestSize , Time)\n",
        "plt.title('Time Comparision of Count Sort for diffrent sized test data')\n",
        "plt.xlabel('Test Data Size')\n",
        "plt.ylabel('Time Take')\n",
        "'''plt.ylim(0,2)\n",
        "plt.xlim(0,2)'''\n",
        "plt.show()"
      ],
      "metadata": {
        "colab": {
          "base_uri": "https://localhost:8080/",
          "height": 434
        },
        "id": "V4h9jMUm4QSO",
        "outputId": "464564db-fae3-430c-b49c-accf071445cd"
      },
      "execution_count": null,
      "outputs": [
        {
          "output_type": "stream",
          "name": "stdout",
          "text": [
            "+--------------------+-----------------------+\n",
            "| Test Data Size (N) |       Time Take       |\n",
            "+--------------------+-----------------------+\n",
            "|        N10         | 0.0006017684936523438 |\n",
            "|        N100        | 0.0008387565612792969 |\n",
            "|       N1000        | 0.0018172264099121094 |\n",
            "|       N10000       |  0.010465621948242188 |\n",
            "+--------------------+-----------------------+\n"
          ]
        },
        {
          "output_type": "display_data",
          "data": {
            "text/plain": [
              "<Figure size 432x288 with 1 Axes>"
            ],
            "image/png": "[encoded data removed]"
          },
          "metadata": {
            "needs_background": "light"
          }
        }
      ]
    },
    {
      "cell_type": "markdown",
      "source": [
        "# Analysising the Time Complexity for Bucket Sort\n",
        "\n",
        "Ref: https://www.geeksforgeeks.org/bucket-sort-2/"
      ],
      "metadata": {
        "id": "WbD0nMPgQypM"
      }
    },
    {
      "cell_type": "code",
      "source": [
        "# Python program for the above approach\n",
        "\n",
        "# Bucket sort for numbers\n",
        "# having integer part\n",
        "def bucketSort(arr, noOfBuckets):\n",
        "\tmax_ele = max(arr)\n",
        "\tmin_ele = min(arr)\n",
        "\n",
        "\t# range(for buckets)\n",
        "\trnge = (max_ele - min_ele) / noOfBuckets\n",
        "\n",
        "\ttemp = []\n",
        "\n",
        "\t# create empty buckets\n",
        "\tfor i in range(noOfBuckets):\n",
        "\t\ttemp.append([])\n",
        "\n",
        "\t# scatter the array elements\n",
        "\t# into the correct bucket\n",
        "\tfor i in range(len(arr)):\n",
        "\t\tdiff = (arr[i] - min_ele) / rnge - int((arr[i] - min_ele) / rnge)\n",
        "\n",
        "\t\t# append the boundary elements to the lower array\n",
        "\t\tif(diff == 0 and arr[i] != min_ele):\n",
        "\t\t\ttemp[int((arr[i] - min_ele) / rnge) - 1].append(arr[i])\n",
        "\n",
        "\t\telse:\n",
        "\t\t\ttemp[int((arr[i] - min_ele) / rnge)].append(arr[i])\n",
        "\n",
        "\t# Sort each bucket individually\n",
        "\tfor i in range(len(temp)):\n",
        "\t\tif len(temp[i]) != 0:\n",
        "\t\t\ttemp[i].sort()\n",
        "\n",
        "\t# Gather sorted elements\n",
        "\t# to the original array\n",
        "\tk = 0\n",
        "\tfor lst in temp:\n",
        "\t\tif lst:\n",
        "\t\t\tfor i in lst:\n",
        "\t\t\t\tarr[k] = i\n",
        "\t\t\t\tk = k+1\n",
        "\n",
        "\n"
      ],
      "metadata": {
        "id": "bfZsAF5UovJa"
      },
      "execution_count": null,
      "outputs": []
    },
    {
      "cell_type": "code",
      "source": [
        "BuTCN10    = TCN10.copy()\n",
        "BuTCN100   = TCN100.copy()\n",
        "BuTCN1000  = TCN1000.copy()\n",
        "BuTCN10000 = TCN10000.copy()\n",
        "\n",
        "t0 = time()\n",
        "bucketSort(BuTCN10,5)\n",
        "t1 = time()\n",
        "Bu10t2 = t1-t0\n",
        "print('Time Take by bucket sort to sort TestData of size N = 10 is %f' %(t1-t0))\n",
        "TimeCaptureForN10.append(Bu10t2) \n",
        "\n",
        "t0 = time()\n",
        "bucketSort(BuTCN100,5)\n",
        "t1 = time()\n",
        "Bu100t2 = t1-t0\n",
        "print('Time Take by bucket sort to sort TestData of size N = 100 is %f' %(t1-t0))\n",
        "TimeCaptureForN100.append(Bu100t2) \n",
        "\n",
        "t0 = time()\n",
        "bucketSort(BuTCN1000,5)\n",
        "t1 = time()\n",
        "Bu1000t2 = t1-t0\n",
        "print('Time Take by bucket sort to sort TestData of size N = 1000 is %f' %(t1-t0))\n",
        "TimeCaptureForN1000.append(Bu1000t2) \n",
        "\n",
        "t0 = time()\n",
        "bucketSort(BuTCN10000,5)\n",
        "t1 = time()\n",
        "Bu10000t2 = t1-t0\n",
        "print('Time Take by bucket sort to sort TestData of size N = 10000 is %f' %(t1-t0))\n",
        "TimeCaptureForN10000.append(Bu10000t2)"
      ],
      "metadata": {
        "colab": {
          "base_uri": "https://localhost:8080/"
        },
        "id": "nBGCfJOjovMq",
        "outputId": "1b23bb75-2240-423f-fa4f-5bac85e6208f"
      },
      "execution_count": null,
      "outputs": [
        {
          "output_type": "stream",
          "name": "stdout",
          "text": [
            "Time Take by bucket sort to sort TestData of size N = 10 is 0.000069\n",
            "Time Take by bucket sort to sort TestData of size N = 100 is 0.000304\n",
            "Time Take by bucket sort to sort TestData of size N = 1000 is 0.001878\n",
            "Time Take by bucket sort to sort TestData of size N = 10000 is 0.009569\n"
          ]
        }
      ]
    },
    {
      "cell_type": "code",
      "source": [
        "TestSize = ['N10','N100','N1000','N10000']\n",
        "Time = [Bu10t2,Bu100t2,Bu1000t2,Bu10000t2]\n",
        "\n",
        "'''data = [TestSize, Time]\n",
        "#col_names = [\"Test Data Size (N)\", \"Time Take\"]\n",
        "print(tabulate(data, headers=col_names, tablefmt=\"fancy_grid\"))'''\n",
        "\n",
        "myTable = PrettyTable([\"Test Data Size (N)\", \"Time Take\"])\n",
        "for i in range(4):\n",
        "  myTable.add_row([TestSize[i], Time[i]])\n",
        "print(myTable)\n",
        "\n",
        "#plt.bar( TestSize , Time)\n",
        "plt.plot( TestSize , Time)\n",
        "plt.title('Time Comparision of Bucket Sort for diffrent sized test data')\n",
        "plt.xlabel('Test Data Size')\n",
        "plt.ylabel('Time Take')\n",
        "'''plt.ylim(0,2)\n",
        "plt.xlim(0,2)'''\n",
        "plt.show()"
      ],
      "metadata": {
        "colab": {
          "base_uri": "https://localhost:8080/",
          "height": 434
        },
        "id": "VQnm8lYk4RpS",
        "outputId": "3c944514-1ec7-48f9-b7f3-f18a5bb5f8c6"
      },
      "execution_count": null,
      "outputs": [
        {
          "output_type": "stream",
          "name": "stdout",
          "text": [
            "+--------------------+-----------------------+\n",
            "| Test Data Size (N) |       Time Take       |\n",
            "+--------------------+-----------------------+\n",
            "|        N10         | 6.914138793945312e-05 |\n",
            "|        N100        | 0.0003039836883544922 |\n",
            "|       N1000        | 0.0018777847290039062 |\n",
            "|       N10000       |  0.009569406509399414 |\n",
            "+--------------------+-----------------------+\n"
          ]
        },
        {
          "output_type": "display_data",
          "data": {
            "text/plain": [
              "<Figure size 432x288 with 1 Axes>"
            ],
            "image/png": "[encoded data removed]"
          },
          "metadata": {
            "needs_background": "light"
          }
        }
      ]
    },
    {
      "cell_type": "markdown",
      "source": [
        "# Analysising the Time Complexity for Radix Sort\n",
        "\n",
        "Ref: https://www.geeksforgeeks.org/radix-sort/\n",
        "\n"
      ],
      "metadata": {
        "id": "Ss0vv82oQyxy"
      }
    },
    {
      "cell_type": "code",
      "source": [
        "# Python program for implementation of Radix Sort\n",
        "# A function to do counting sort of arr[] according to\n",
        "# the digit represented by exp.\n",
        "\n",
        "def countingSort(arr, exp1):\n",
        "\n",
        "\tn = len(arr)\n",
        "\n",
        "\t# The output array elements that will have sorted arr\n",
        "\toutput = [0] * (n)\n",
        "\n",
        "\t# initialize count array as 0\n",
        "\tcount = [0] * (10)\n",
        "\n",
        "\t# Store count of occurrences in count[]\n",
        "\tfor i in range(0, n):\n",
        "\t\tindex = arr[i] // exp1\n",
        "\t\tcount[index % 10] += 1\n",
        "\n",
        "\t# Change count[i] so that count[i] now contains actual\n",
        "\t# position of this digit in output array\n",
        "\tfor i in range(1, 10):\n",
        "\t\tcount[i] += count[i - 1]\n",
        "\n",
        "\t# Build the output array\n",
        "\ti = n - 1\n",
        "\twhile i >= 0:\n",
        "\t\tindex = arr[i] // exp1\n",
        "\t\toutput[count[index % 10] - 1] = arr[i]\n",
        "\t\tcount[index % 10] -= 1\n",
        "\t\ti -= 1\n",
        "\n",
        "\t# Copying the output array to arr[],\n",
        "\t# so that arr now contains sorted numbers\n",
        "\ti = 0\n",
        "\tfor i in range(0, len(arr)):\n",
        "\t\tarr[i] = output[i]\n",
        "\n",
        "# Method to do Radix Sort\n",
        "def radixSort(arr):\n",
        "\n",
        "\t# Find the maximum number to know number of digits\n",
        "\tmax1 = max(arr)\n",
        "\n",
        "\t# Do counting sort for every digit. Note that instead\n",
        "\t# of passing digit number, exp is passed. exp is 10^i\n",
        "\t# where i is current digit number\n",
        "\texp = 1\n",
        "\twhile max1 / exp >= 1:\n",
        "\t\tcountingSort(arr, exp)\n",
        "\t\texp *= 10\n",
        "\n",
        "\n"
      ],
      "metadata": {
        "id": "7Ml5pIOTov-g"
      },
      "execution_count": null,
      "outputs": []
    },
    {
      "cell_type": "code",
      "source": [
        "RTCN10    = TCN10.copy()\n",
        "RTCN100   = TCN100.copy()\n",
        "RTCN1000  = TCN1000.copy()\n",
        "RTCN10000 = TCN10000.copy()\n",
        "\n",
        "t0 = time()\n",
        "radixSort(RTCN10)\n",
        "t1 = time()\n",
        "R10t2 = t1-t0\n",
        "print('Time Take by radix sort to sort TestData of size N = 10 is %f' %(t1-t0))\n",
        "TimeCaptureForN10.append(R10t2) \n",
        "\n",
        "t0 = time()\n",
        "radixSort(RTCN100)\n",
        "t1 = time()\n",
        "R100t2 = t1-t0\n",
        "print('Time Take by radix sort to sort TestData of size N = 100 is %f' %(t1-t0))\n",
        "TimeCaptureForN100.append(R100t2) \n",
        "\n",
        "t0 = time()\n",
        "radixSort(RTCN1000)\n",
        "t1 = time()\n",
        "R1000t2 = t1-t0\n",
        "print('Time Take by radix sort to sort TestData of size N = 1000 is %f' %(t1-t0))\n",
        "TimeCaptureForN1000.append(R1000t2) \n",
        "\n",
        "t0 = time()\n",
        "radixSort(RTCN10000)\n",
        "t1 = time()\n",
        "R10000t2 = t1-t0\n",
        "print('Time Take by radix sort to sort TestData of size N = 10000 is %f' %(t1-t0))\n",
        "TimeCaptureForN10000.append(R10000t2)"
      ],
      "metadata": {
        "colab": {
          "base_uri": "https://localhost:8080/"
        },
        "id": "TpX2v2vOowB_",
        "outputId": "d6d74dbb-83b7-425a-ed28-859a48d5caf5"
      },
      "execution_count": null,
      "outputs": [
        {
          "output_type": "stream",
          "name": "stdout",
          "text": [
            "Time Take by radix sort to sort TestData of size N = 10 is 0.000119\n",
            "Time Take by radix sort to sort TestData of size N = 100 is 0.000406\n",
            "Time Take by radix sort to sort TestData of size N = 1000 is 0.003744\n",
            "Time Take by radix sort to sort TestData of size N = 10000 is 0.025213\n"
          ]
        }
      ]
    },
    {
      "cell_type": "code",
      "source": [
        "TestSize = ['N10','N100','N1000','N10000']\n",
        "Time = [R10t2,R100t2,R1000t2,R10000t2]\n",
        "\n",
        "'''data = [TestSize, Time]\n",
        "#col_names = [\"Test Data Size (N)\", \"Time Take\"]\n",
        "print(tabulate(data, headers=col_names, tablefmt=\"fancy_grid\"))'''\n",
        "\n",
        "myTable = PrettyTable([\"Test Data Size (N)\", \"Time Take\"])\n",
        "for i in range(4):\n",
        "  myTable.add_row([TestSize[i], Time[i]])\n",
        "print(myTable)\n",
        "\n",
        "#plt.bar( TestSize , Time)\n",
        "plt.plot( TestSize , Time)\n",
        "plt.title('Time Comparision of Radix Sort for diffrent sized test data')\n",
        "plt.xlabel('Test Data Size')\n",
        "plt.ylabel('Time Take')\n",
        "'''plt.ylim(0,2)\n",
        "plt.xlim(0,2)'''\n",
        "plt.show()"
      ],
      "metadata": {
        "colab": {
          "base_uri": "https://localhost:8080/",
          "height": 434
        },
        "id": "_wuFsJWS4S6z",
        "outputId": "95c4a492-af5c-4771-ea54-59521468bc06"
      },
      "execution_count": null,
      "outputs": [
        {
          "output_type": "stream",
          "name": "stdout",
          "text": [
            "+--------------------+------------------------+\n",
            "| Test Data Size (N) |       Time Take        |\n",
            "+--------------------+------------------------+\n",
            "|        N10         | 0.00011897087097167969 |\n",
            "|        N100        | 0.00040602684020996094 |\n",
            "|       N1000        | 0.0037436485290527344  |\n",
            "|       N10000       |  0.025212764739990234  |\n",
            "+--------------------+------------------------+\n"
          ]
        },
        {
          "output_type": "display_data",
          "data": {
            "text/plain": [
              "<Figure size 432x288 with 1 Axes>"
            ],
            "image/png": "[encoded data removed]"
          },
          "metadata": {
            "needs_background": "light"
          }
        }
      ]
    }
  ]
}