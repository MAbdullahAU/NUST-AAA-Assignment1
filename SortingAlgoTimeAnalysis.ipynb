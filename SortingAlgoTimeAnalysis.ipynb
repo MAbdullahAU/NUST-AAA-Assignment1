{
  "nbformat": 4,
  "nbformat_minor": 0,
  "metadata": {
    "colab": {
      "provenance": [],
      "include_colab_link": true
    },
    "kernelspec": {
      "name": "python3",
      "display_name": "Python 3"
    },
    "language_info": {
      "name": "python"
    }
  },
  "cells": [
    {
      "cell_type": "markdown",
      "metadata": {
        "id": "view-in-github",
        "colab_type": "text"
      },
      "source": [
        "<a href=\"https://colab.research.google.com/github/MAbdullahAU/NUST-AAA-Assignment1/blob/main/SortingAlgoTimeAnalysis.ipynb\" target=\"_parent\"><img src=\"https://colab.research.google.com/assets/colab-badge.svg\" alt=\"Open In Colab\"/></a>"
      ]
    },
    {
      "cell_type": "code",
      "source": [
        "from time import time\n",
        "import random\n",
        "import matplotlib.pyplot as plt\n",
        "from tabulate import tabulate\n",
        "from prettytable import PrettyTable"
      ],
      "metadata": {
        "id": "GArFQaxRLvdY"
      },
      "execution_count": null,
      "outputs": []
    },
    {
      "cell_type": "markdown",
      "source": [
        "# Initilizing the Vars"
      ],
      "metadata": {
        "id": "s-csGkvGFOvj"
      }
    },
    {
      "cell_type": "code",
      "source": [
        "Algos = [\"Bubble Sort\", \"Insertion Sort\", \"Selection Sort\", \"Quick Sort\", \"Merge Sort\", \"Heap Sort\", \"Counting Sort\", \"Bucket Sort\", \"Radix Sort\"]\n",
        "\n",
        "TimeCaptureForN10    = []\n",
        "TimeCaptureForN100   = []\n",
        "TimeCaptureForN1000  = []\n",
        "TimeCaptureForN10000 = []\n",
        "\n",
        "TestCaseN10    = []\n",
        "TestCaseN100   = []\n",
        "TestCaseN1000  = []\n",
        "TestCaseN10000 = []\n"
      ],
      "metadata": {
        "id": "8vtkCLPIFO3l"
      },
      "execution_count": null,
      "outputs": []
    },
    {
      "cell_type": "markdown",
      "source": [
        "# Random Generator\n",
        "\n",
        "to make test case for size array  n=10, n = 100, n=1000, and n=10000"
      ],
      "metadata": {
        "id": "DjVy1AH0BeMW"
      }
    },
    {
      "cell_type": "code",
      "source": [
        "TestCaseN10    = []\n",
        "TestCaseN100   = []\n",
        "TestCaseN1000  = []\n",
        "TestCaseN10000 = []\n",
        "\n",
        "random.seed(5)\n",
        "\n",
        "for i in range(10) :\n",
        "  temp = random.randint(-1000, 1000)\n",
        "  TestCaseN10.append(temp)\n",
        "\n",
        "for i in range(100) :\n",
        "  temp = random.randint(-1000, 1000)\n",
        "  TestCaseN100.append(temp)\n",
        "\n",
        "for i in range(1000) :\n",
        "  temp = random.randint(-1000, 1000)\n",
        "  TestCaseN1000.append(temp)\n",
        "\n",
        "for i in range(10000) :\n",
        "  temp = random.randint(-1000, 1000)\n",
        "  TestCaseN10000.append(temp)\n",
        "  "
      ],
      "metadata": {
        "id": "OnD8z2dVAocG"
      },
      "execution_count": null,
      "outputs": []
    },
    {
      "cell_type": "code",
      "source": [
        "TCN10    = TestCaseN10.copy()\n",
        "TCN100   = TestCaseN100.copy()\n",
        "TCN1000  = TestCaseN1000.copy()\n",
        "TCN10000 = TestCaseN10000.copy()\n",
        "\n",
        "print(TCN10)"
      ],
      "metadata": {
        "colab": {
          "base_uri": "https://localhost:8080/"
        },
        "id": "T83rDHzNLsj9",
        "outputId": "7f160be2-0739-4151-9187-a1080abde15a"
      },
      "execution_count": null,
      "outputs": [
        {
          "output_type": "stream",
          "name": "stdout",
          "text": [
            "[275, -477, 519, -266, 628, 414, 930, 723, 515, 335]\n"
          ]
        }
      ]
    },
    {
      "cell_type": "markdown",
      "source": [
        "# Analysising the Time Complexity for Bubble Sort"
      ],
      "metadata": {
        "id": "Qs1YTOE1DaYt"
      }
    },
    {
      "cell_type": "code",
      "source": [
        "def bubbleSort(array):\n",
        "    \n",
        "  for i in range(len(array)):\n",
        "    for j in range(0, len(array) - i - 1):  # here is added just to avoid to itrate over the last element \n",
        "      if array[j] > array[j + 1]:\n",
        "        temp = array[j]\n",
        "        array[j] = array[j+1]\n",
        "        array[j+1] = temp\n"
      ],
      "metadata": {
        "id": "GHh--a4CDahW"
      },
      "execution_count": null,
      "outputs": []
    },
    {
      "cell_type": "code",
      "source": [
        "BTCN10    = TCN10.copy()\n",
        "BTCN100   = TCN100.copy()\n",
        "BTCN1000  = TCN1000.copy()\n",
        "BTCN10000 = TCN10000.copy()\n",
        "\n",
        "t0 = time()\n",
        "bubbleSort(BTCN10)\n",
        "t1 = time()\n",
        "B10t2 = t1-t0\n",
        "print('Time Take by bubble sort to sort TestData of size N = 10 is %f' %(t1-t0))\n",
        "TimeCaptureForN10.append(B10t2) \n",
        "\n",
        "t0 = time()\n",
        "bubbleSort(BTCN100)\n",
        "t1 = time()\n",
        "B100t2 = t1-t0\n",
        "print('Time Take by bubble sort to sort TestData of size N = 100 is %f' %(t1-t0))\n",
        "TimeCaptureForN100.append(B100t2) \n",
        "\n",
        "t0 = time()\n",
        "bubbleSort(BTCN1000)\n",
        "t1 = time()\n",
        "B1000t2 = t1-t0\n",
        "print('Time Take by bubble sort to sort TestData of size N = 1000 is %f' %(t1-t0))\n",
        "TimeCaptureForN1000.append(B1000t2) \n",
        "\n",
        "t0 = time()\n",
        "bubbleSort(BTCN10000)\n",
        "t1 = time()\n",
        "B10000t2 = t1-t0\n",
        "print('Time Take by bubble sort to sort TestData of size N = 10000 is %f' %(t1-t0))\n",
        "TimeCaptureForN10000.append(B10000t2) "
      ],
      "metadata": {
        "id": "QEW7yzCOJf-a",
        "outputId": "041ed090-c1de-4f0c-8a28-dace5cae7c25",
        "colab": {
          "base_uri": "https://localhost:8080/"
        }
      },
      "execution_count": null,
      "outputs": [
        {
          "output_type": "stream",
          "name": "stdout",
          "text": [
            "Time Take by bubble sort to sort TestData of size N = 10 is 0.000064\n",
            "Time Take by bubble sort to sort TestData of size N = 100 is 0.001193\n",
            "Time Take by bubble sort to sort TestData of size N = 1000 is 0.118622\n",
            "Time Take by bubble sort to sort TestData of size N = 10000 is 11.454765\n"
          ]
        }
      ]
    },
    {
      "cell_type": "code",
      "source": [
        "TestSize = ['N10','N100','N1000','N10000']\n",
        "Time = [B10t2,B100t2,B1000t2,B10000t2]\n",
        "\n",
        "'''data = [TestSize, Time]\n",
        "#col_names = [\"Test Data Size (N)\", \"Time Take\"]\n",
        "print(tabulate(data, headers=col_names, tablefmt=\"fancy_grid\"))'''\n",
        "\n",
        "myTable = PrettyTable([\"Test Data Size (N)\", \"Time Take\"])\n",
        "for i in range(4):\n",
        "  myTable.add_row(TestSize[i], Time[i])\n",
        "print(myTable)\n",
        "\n",
        "plt.bar( TestSize , Time)\n",
        "plt.title('Time Comparision of Bubble Sort for diffrent sized test data')\n",
        "plt.xlabel('Test Data Size')\n",
        "plt.ylabel('Time Take')\n",
        "'''plt.ylim(0,2)\n",
        "plt.xlim(0,2)'''\n",
        "plt.show()"
      ],
      "metadata": {
        "id": "c5yhE06tRYO_"
      },
      "execution_count": null,
      "outputs": []
    },
    {
      "cell_type": "markdown",
      "source": [
        "# Analysising the Time Complexity for Insertion Sort"
      ],
      "metadata": {
        "id": "oxp0f8-iNori"
      }
    },
    {
      "cell_type": "code",
      "source": [
        "def insertionSort(array):\n",
        "    # Loop from the second element of the array until\n",
        "    # the last element\n",
        "    for i in range(1, len(array)):\n",
        "        # This is the element we want to position in its\n",
        "        # correct place\n",
        "        key_item = array[i]\n",
        "\n",
        "        # Initialize the variable that will be used to\n",
        "        # find the correct position of the element referenced\n",
        "        # by `key_item`\n",
        "        j = i - 1\n",
        "\n",
        "        # Run through the list of items (the left\n",
        "        # portion of the array) and find the correct position\n",
        "        # of the element referenced by `key_item`. Do this only\n",
        "        # if `key_item` is smaller than its adjacent values.\n",
        "        while j >= 0 and array[j] > key_item:\n",
        "            # Shift the value one position to the left\n",
        "            # and reposition j to point to the next element\n",
        "            # (from right to left)\n",
        "            array[j + 1] = array[j]\n",
        "            j -= 1\n",
        "\n",
        "        # When you finish shifting the elements, you can position\n",
        "        # `key_item` in its correct location\n",
        "        array[j + 1] = key_item\n",
        "\n",
        "    return array"
      ],
      "metadata": {
        "id": "U0pUbynLNo38"
      },
      "execution_count": null,
      "outputs": []
    },
    {
      "cell_type": "code",
      "source": [
        "ITCN10    = TCN10.copy()\n",
        "ITCN100   = TCN100.copy()\n",
        "ITCN1000  = TCN1000.copy()\n",
        "ITCN10000 = TCN10000.copy()\n",
        "\n",
        "t0 = time()\n",
        "insertionSort(ITCN10)\n",
        "t1 = time()\n",
        "I10t2 = t1-t0\n",
        "print('Time Take by insertion sort to sort TestData of size N = 10 is %f' %(t1-t0))\n",
        "TimeCaptureForN10.append(I10t2) \n",
        "\n",
        "t0 = time()\n",
        "insertionSort(ITCN100)\n",
        "t1 = time()\n",
        "I100t2 = t1-t0\n",
        "print('Time Take by insertion sort to sort TestData of size N = 100 is %f' %(t1-t0))\n",
        "TimeCaptureForN100.append(I100t2) \n",
        "\n",
        "t0 = time()\n",
        "insertionSort(ITCN1000)\n",
        "t1 = time()\n",
        "I1000t2 = t1-t0\n",
        "print('Time Take by insertion sort to sort TestData of size N = 1000 is %f' %(t1-t0))\n",
        "TimeCaptureForN1000.append(I1000t2) \n",
        "\n",
        "t0 = time()\n",
        "insertionSort(ITCN10000)\n",
        "t1 = time()\n",
        "I10000t2 = t1-t0\n",
        "print('Time Take by insertion sort to sort TestData of size N = 10000 is %f' %(t1-t0))\n",
        "TimeCaptureForN10000.append(I10000t2) "
      ],
      "metadata": {
        "id": "WAfBSBxwNpAG",
        "outputId": "d3f8a300-c226-4891-b841-c2b8ac3321d9",
        "colab": {
          "base_uri": "https://localhost:8080/"
        }
      },
      "execution_count": null,
      "outputs": [
        {
          "output_type": "stream",
          "name": "stdout",
          "text": [
            "Time Take by insertion sort to sort TestData of size N = 10 is 0.000120\n",
            "Time Take by insertion sort to sort TestData of size N = 100 is 0.000803\n",
            "Time Take by insertion sort to sort TestData of size N = 1000 is 0.061802\n",
            "Time Take by insertion sort to sort TestData of size N = 10000 is 5.775524\n"
          ]
        }
      ]
    },
    {
      "cell_type": "markdown",
      "source": [
        "# Analysising the Time Complexity for Selection Sort"
      ],
      "metadata": {
        "id": "7BibalQoQxR5"
      }
    },
    {
      "cell_type": "markdown",
      "source": [
        "# Analysising the Time Complexity for Quick Sort"
      ],
      "metadata": {
        "id": "7AxLosWnQyHm"
      }
    },
    {
      "cell_type": "markdown",
      "source": [
        "# Analysising the Time Complexity for Merge Sort"
      ],
      "metadata": {
        "id": "leJFbWitQyPY"
      }
    },
    {
      "cell_type": "markdown",
      "source": [
        "# Analysising the Time Complexity for Heap Sort"
      ],
      "metadata": {
        "id": "gADeWC2aQyZS"
      }
    },
    {
      "cell_type": "markdown",
      "source": [
        "# Analysising the Time Complexity for Counting Sort"
      ],
      "metadata": {
        "id": "wiX8yPaQQygo"
      }
    },
    {
      "cell_type": "markdown",
      "source": [
        "# Analysising the Time Complexity for Bucket Sort"
      ],
      "metadata": {
        "id": "WbD0nMPgQypM"
      }
    },
    {
      "cell_type": "markdown",
      "source": [
        "# Analysising the Time Complexity for Radix Sort\n",
        "\n"
      ],
      "metadata": {
        "id": "Ss0vv82oQyxy"
      }
    }
  ]
}